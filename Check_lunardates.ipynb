{
 "cells": [
  {
   "cell_type": "code",
   "execution_count": 4,
   "metadata": {},
   "outputs": [
    {
     "name": "stdout",
     "output_type": "stream",
     "text": [
      "Tháng 3 - Mùng 1: 2025-03-29 - Rằm: 2025-04-12\n",
      "Tháng 4 - Mùng 1: 2025-04-28 - Rằm: 2025-05-12\n",
      "Tháng 5 - Mùng 1: 2025-05-27 - Rằm: 2025-06-10\n",
      "Tháng 6 - Mùng 1: 2025-06-25 - Rằm: 2025-07-09\n"
     ]
    }
   ],
   "source": [
    "import lunardate\n",
    "\n",
    "def lich_am (year, month):\n",
    "    mung_mot = lunardate.LunarDate(year, month, 1).toSolarDate()\n",
    "    ram = lunardate.LunarDate(year, month, 15).toSolarDate()\n",
    "    \n",
    "    return{\n",
    "        \"Mung mot\": mung_mot,\n",
    "        \"Ram\": ram\n",
    "    }\n",
    "    \n",
    "year = 2025\n",
    "for month in (3,4,5,6):\n",
    "    lich_duong_tuong_ung = lich_am (year, month)\n",
    "    print(f\"Tháng {month} - Mùng 1: {lich_duong_tuong_ung['Mung mot']} - Rằm: {lich_duong_tuong_ung['Ram']}\")"
   ]
  }
 ],
 "metadata": {
  "kernelspec": {
   "display_name": "Python 3",
   "language": "python",
   "name": "python3"
  },
  "language_info": {
   "codemirror_mode": {
    "name": "ipython",
    "version": 3
   },
   "file_extension": ".py",
   "mimetype": "text/x-python",
   "name": "python",
   "nbconvert_exporter": "python",
   "pygments_lexer": "ipython3",
   "version": "3.12.2"
  }
 },
 "nbformat": 4,
 "nbformat_minor": 2
}
